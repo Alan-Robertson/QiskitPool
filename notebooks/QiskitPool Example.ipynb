{
 "cells": [
  {
   "cell_type": "markdown",
   "id": "tribal-check",
   "metadata": {},
   "source": [
    "### Imports ###\n",
    "The Qiskit job watcher magic string is useful, and surprisingly poorly documented\n"
   ]
  },
  {
   "cell_type": "code",
   "execution_count": 1,
   "id": "lesser-envelope",
   "metadata": {},
   "outputs": [
    {
     "data": {
      "application/vnd.jupyter.widget-view+json": {
       "model_id": "6021c77ea77a49ef90c6314f5e28264d",
       "version_major": 2,
       "version_minor": 0
      },
      "text/plain": [
       "Accordion(children=(VBox(layout=Layout(max_width='710px', min_width='710px')),), layout=Layout(max_height='500…"
      ]
     },
     "metadata": {},
     "output_type": "display_data"
    },
    {
     "data": {
      "application/javascript": [
       "\n",
       "        const isLab = window['Jupyter'] === undefined;\n",
       "        const notebook = document.querySelector( isLab ? 'div.jp-Notebook' : '#site');\n",
       "        const jobWidget = document.querySelector('div.job_widget');\n",
       "        notebook.prepend(jobWidget);\n",
       "        jobWidget.style.zIndex = '999';\n",
       "        jobWidget.style.position = isLab ? 'sticky' : 'fixed';\n",
       "        jobWidget.style.boxShadow = '5px 5px 5px -3px black';\n",
       "        jobWidget.style.opacity = '0.95';\n",
       "        if (isLab) {\n",
       "            jobWidget.style.top = '0';\n",
       "            jobWidget.style.left = '0';\n",
       "        }\n",
       "        "
      ],
      "text/plain": [
       "<IPython.core.display.Javascript object>"
      ]
     },
     "metadata": {},
     "output_type": "display_data"
    }
   ],
   "source": [
    "import time\n",
    "\n",
    "import qiskitpool\n",
    "\n",
    "from qiskit import IBMQ, QuantumCircuit\n",
    "import qiskit.tools.jupyter\n",
    "\n",
    "IBMQ.load_account()\n",
    "provider = IBMQ.get_provider(group='open', project='main')\n",
    "\n",
    "%qiskit_job_watcher"
   ]
  },
  {
   "cell_type": "markdown",
   "id": "environmental-fitting",
   "metadata": {},
   "source": [
    "## Single circuit trial"
   ]
  },
  {
   "cell_type": "code",
   "execution_count": 2,
   "id": "ceramic-stephen",
   "metadata": {},
   "outputs": [],
   "source": [
    "pool = qiskitpool.QPool(provider)\n",
    "backend = provider.get_backend('simulator_statevector')\n",
    "\n",
    "n_shots = 10\n",
    "\n",
    "circ = QuantumCircuit(1, 1)\n",
    "circ.x(0)\n",
    "circ.measure(0, 0)\n",
    "\n",
    "job = pool(circ, backend, shots=n_shots)"
   ]
  },
  {
   "cell_type": "markdown",
   "id": "binary-special",
   "metadata": {},
   "source": [
    "Print the pool to see what it's up to"
   ]
  },
  {
   "cell_type": "code",
   "execution_count": 3,
   "id": "superb-press",
   "metadata": {},
   "outputs": [
    {
     "name": "stdout",
     "output_type": "stream",
     "text": [
      "ibmq_qasm_simulator:\t[ ][ ][ ][ ][ ] : 0\n",
      "ibmq_lima:\t[ ][ ][ ][ ][ ] : 0\n",
      "ibmq_belem:\t[ ][ ][ ][ ][ ] : 0\n",
      "ibmq_quito:\t[ ][ ][ ][ ][ ] : 0\n",
      "simulator_statevector:\t[ ][ ][ ][ ][ ] : 1\n",
      "simulator_mps:\t[ ][ ][ ][ ][ ] : 0\n",
      "simulator_extended_stabilizer:\t[ ][ ][ ][ ][ ] : 0\n",
      "simulator_stabilizer:\t[ ][ ][ ][ ][ ] : 0\n",
      "ibmq_manila:\t[ ][ ][ ][ ][ ] : 0\n",
      "ibm_nairobi:\t[ ][ ][ ][ ][ ] : 0\n",
      "ibm_oslo:\t[ ][ ][ ][ ][ ] : 0\n",
      "\n"
     ]
    }
   ],
   "source": [
    "print(pool)"
   ]
  },
  {
   "cell_type": "code",
   "execution_count": null,
   "id": "allied-burning",
   "metadata": {},
   "outputs": [],
   "source": [
    "while not job.poll():\n",
    "    time.sleep(2)\n",
    "    \n",
    "\n",
    "assert(job.result().get_counts()['1'] == n_shots)"
   ]
  },
  {
   "cell_type": "markdown",
   "id": "mature-central",
   "metadata": {},
   "source": [
    "## 20 Circuits trial\n",
    "You can increase this, but the IBMQ backend may throttle your job submissions"
   ]
  },
  {
   "cell_type": "code",
   "execution_count": 4,
   "id": "psychological-indonesia",
   "metadata": {},
   "outputs": [],
   "source": [
    "pool = qiskitpool.QPool(provider)\n",
    "backend = provider.get_backend('simulator_statevector')\n",
    "\n",
    "n_shots = 10\n",
    "n_rounds = 20\n",
    "\n",
    "circ = QuantumCircuit(1, 1)\n",
    "circ.x(0)\n",
    "circ.measure(0, 0)\n",
    "\n",
    "# Create jobs\n",
    "jobs = [pool(circ, backend, shots=n_shots) for i in range(n_rounds)]"
   ]
  },
  {
   "cell_type": "markdown",
   "id": "spatial-letters",
   "metadata": {},
   "source": [
    "### Print the pool while it is running to see what it's up to"
   ]
  },
  {
   "cell_type": "code",
   "execution_count": 26,
   "id": "expired-tsunami",
   "metadata": {},
   "outputs": [
    {
     "name": "stdout",
     "output_type": "stream",
     "text": [
      "ibmq_qasm_simulator:\t[ ][ ][ ][ ][ ] : 0\n",
      "ibmq_lima:\t[ ][ ][ ][ ][ ] : 0\n",
      "ibmq_belem:\t[ ][ ][ ][ ][ ] : 0\n",
      "ibmq_quito:\t[ ][ ][ ][ ][ ] : 0\n",
      "simulator_statevector:\t[X][X][X][X][X] : 0\n",
      "simulator_mps:\t[ ][ ][ ][ ][ ] : 0\n",
      "simulator_extended_stabilizer:\t[ ][ ][ ][ ][ ] : 0\n",
      "simulator_stabilizer:\t[ ][ ][ ][ ][ ] : 0\n",
      "ibmq_manila:\t[ ][ ][ ][ ][ ] : 0\n",
      "ibm_nairobi:\t[ ][ ][ ][ ][ ] : 0\n",
      "ibm_oslo:\t[ ][ ][ ][ ][ ] : 0\n",
      "\n"
     ]
    }
   ],
   "source": [
    "print(pool)"
   ]
  },
  {
   "cell_type": "markdown",
   "id": "planned-norman",
   "metadata": {},
   "source": [
    "Wait for the jobs to finish and then check the results"
   ]
  },
  {
   "cell_type": "code",
   "execution_count": null,
   "id": "funny-waste",
   "metadata": {},
   "outputs": [],
   "source": [
    "# Wait for jobs to finish\n",
    "n_complete = 0\n",
    "while n_complete < n_rounds - 1:\n",
    "    n_complete = 0\n",
    "    for job in jobs:\n",
    "        if job.poll():\n",
    "            n_complete += 1\n",
    "\n",
    "for job in jobs:\n",
    "    assert(job.poll())\n",
    "    assert(job.result().get_counts()['1'] == n_shots)"
   ]
  },
  {
   "cell_type": "markdown",
   "id": "inside-olympus",
   "metadata": {},
   "source": [
    "### Safely shut down the pool"
   ]
  },
  {
   "cell_type": "code",
   "execution_count": null,
   "id": "reflected-packing",
   "metadata": {},
   "outputs": [],
   "source": [
    "pool.join()"
   ]
  }
 ],
 "metadata": {
  "kernelspec": {
   "display_name": "Python 3",
   "language": "python",
   "name": "python3"
  },
  "language_info": {
   "codemirror_mode": {
    "name": "ipython",
    "version": 3
   },
   "file_extension": ".py",
   "mimetype": "text/x-python",
   "name": "python",
   "nbconvert_exporter": "python",
   "pygments_lexer": "ipython3",
   "version": "3.8.3"
  }
 },
 "nbformat": 4,
 "nbformat_minor": 5
}
